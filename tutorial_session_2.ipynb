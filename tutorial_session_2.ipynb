{
 "cells": [
  {
   "cell_type": "markdown",
   "metadata": {},
   "source": [
    "<h2 style=\"text-align: center; font-family: Calibri, sans-serif; font-size: 36px;\">\n",
    "  Tutorial Session 2\n",
    "</h2>\n",
    "\n",
    "---"
   ]
  },
  {
   "cell_type": "markdown",
   "metadata": {},
   "source": [
    "## Lectures 01-06\n",
    "\n",
    "---"
   ]
  },
  {
   "cell_type": "markdown",
   "metadata": {},
   "source": [
    "### Question A.1\n",
    "\n",
    "Helios Printing Solutions is deciding when to replace its old printing press. \n",
    "-   The press's current salvage value is $3.0 million. Its current book value is $2.0 million. \n",
    "-   If not sold, the old press will require maintenance costs of $900,000 at the end of the year for the next five years. \n",
    "-   Depreciation on the old press is $400,000 per year for the next five years, at which point its book value will be $0. At the end of five years, it will have a salvage value of $200,000.\n",
    "\n",
    "A replacement press costs $5.0 million now and requires maintenance costs of $400,000 at the end of each year during its economic life of five years. - At the end of the five years, the new press will have a salvage value of $1.0 million. It will be fully depreciated by the straight-line method over five years. \n",
    "-   In five years a replacement press will cost $4,000,000. The company will need to purchase this machine regardless of what choice it makes today. -  The corporate tax rate is 35 percent and the appropriate discount rate is 9 percent. The company is assumed to earn sufficient revenues to generate tax shields from depreciation.\n",
    "\n",
    "Should the company replace the old press now or at the end of five years?\n",
    "\n",
    "---"
   ]
  },
  {
   "cell_type": "markdown",
   "metadata": {},
   "source": [
    "### Question A.2\n",
    "\n",
    "Consider a security that pays $150 in one year, $160 in two years, and $200 in three years, with no risk. Suppose the risk-free interest rate is 6%.\n",
    "\n",
    "a) What is the no-arbitrage price of the security today?\n",
    "\n",
    "b) If the security is trading at $460, what arbitrage opportunity exists?\n",
    "\n",
    "---"
   ]
  },
  {
   "cell_type": "markdown",
   "metadata": {},
   "source": [
    "### Question A.3\n",
    "\n",
    "You have the following spot yield curve information:\n",
    "\n",
    "| Maturity | Spot Rate |\n",
    "| :--- | ---: |\n",
    "| 1 year | 5.0% |\n",
    "| 2 years | 4.5% |\n",
    "| 4 years | 4.0% |\n",
    "| 5 years | 3.8% |\n",
    "\n",
    "a) Calculate the prices of zero-coupon bonds with a $1,000 face value and maturities of 1, 2, 4, and 5 years.\n",
    "\n",
    "b) Determine the one-year forward rates starting at t = 1 and t = 4.\n",
    "\n",
    "c) A bond with a $10,000 face value, a 5-year maturity, and 6% annual coupon payments is currently priced at $10,988.10. What is the implied 3-year spot rate? (Assume that the bond's cash flows share the same risk as the assets used to quote the above spot rates, and that the next coupon payment is exactly one year from today.)\n",
    "\n",
    "---"
   ]
  },
  {
   "cell_type": "markdown",
   "metadata": {},
   "source": [
    "### Question A.4\n",
    "\n",
    "Omega Industries has just paid an annual dividend of $2.10. \n",
    "*   Analysts are predicting dividends to grow by $0.15 per year over the next five years. After then, Omega's earnings are expected to grow 5.5% per year, and its dividend payout rate will remain constant. \n",
    "\n",
    "*   If Omega's equity cost of capital is 9.0% per year, what price does the dividend-discount model predict Omega stock should sell for today?\n",
    "\n",
    "---"
   ]
  },
  {
   "cell_type": "markdown",
   "metadata": {},
   "source": [
    "### Question A.5\n",
    "\n",
    "Sigma Dynamics is a privately held developer of advanced logistics systems based in Denver. As part of your business development strategy, in late 2024 you initiate discussions with Sigma's founder about the possibility of acquiring the business at the end of 2024. Estimate the value of Sigma per share using a discounted FCF approach and the following data:\n",
    "\n",
    "-   Debt: $40 million\n",
    "\n",
    "-   Excess cash: $110 million\n",
    "\n",
    "-   Shares outstanding: 60 million\n",
    "\n",
    "-   Expected FCF in 2025: $55 million\n",
    "\n",
    "-   Expected FCF in 2026: $65 million\n",
    "\n",
    "-   Future FCF growth rate beyond 2026: 5%\n",
    "\n",
    "-   Weighted-average cost of capital: 10.0%\n",
    "\n",
    "---"
   ]
  },
  {
   "cell_type": "markdown",
   "metadata": {},
   "source": [
    "## Risk and Return, CAPM, Cost of Capital\n",
    "\n",
    "---"
   ]
  },
  {
   "cell_type": "markdown",
   "metadata": {},
   "source": [
    "### Question B.1\n",
    "\n",
    "Consider the following information on three stocks:\n",
    "\n",
    "| State of Economy | Probability of State | Rate of Return if State Occurs | | |\n",
    "| :--- | :--- | :--- | :--- | :--- |\n",
    "| | | Stock Alpha | Stock Beta | Stock Gamma |\n",
    "| Prosperity | .60 | .08 | .18 | .30 |\n",
    "| Recession | .40 | .12 | .04 | –.05 |\n",
    "\n",
    "a. What is the expected return on an equally weighted portfolio of these three stocks?\n",
    "\n",
    "b. What is the variance of a portfolio invested 30 percent each in Alpha and Beta, and 40 percent in Gamma?\n",
    "\n",
    "---"
   ]
  },
  {
   "cell_type": "markdown",
   "metadata": {},
   "source": [
    "### Question B.2\n",
    "\n",
    "Using the data in the following table for the returns of Stock Delta and Stock Epsilon:\n",
    "\n",
    "| Year | 2018 | 2019 | 2020 | 2021 | 2022 | 2023 |\n",
    "| :--- | :--- | :--- | :--- | :--- | :--- | :--- |\n",
    "| Stock Delta | 15% | –8% | 22% | 4% | –12% | 18% |\n",
    "| Stock Epsilon | 20% | 5% | –10% | 28% | –4% | 15% |\n",
    "\n",
    "a. Estimate the average return and volatility for each stock.\n",
    "\n",
    "b. Estimate the covariance between the stocks.\n",
    "\n",
    "c. Estimate the correlation between these two stocks.\n",
    "\n",
    "d. Consider a portfolio that maintains a 50% weight on stock Delta and a 50% weight on stock Epsilon. What is the return each year of this portfolio? Compute the average return and volatility of the equally-weighted portfolio.\n",
    "\n",
    "e. Calculate the volatility of a portfolio that is 60% invested in stock Delta and 40% invested in stock Epsilon.\n",
    "\n",
    "---"
   ]
  },
  {
   "cell_type": "markdown",
   "metadata": {},
   "source": [
    "### Question B.3\n",
    "\n",
    "Suppose Alpha Corporation and Beta Corporation have the expected returns and volatilities shown below, with a correlation of 25%.\n",
    "\n",
    "| | Expected Return | Standard Deviation |\n",
    "| :--- | :--- | :--- |\n",
    "| Alpha Corporation | 8% | 18% |\n",
    "| Beta Corporation | 12% | 25% |\n",
    "\n",
    "a. Calculate the expected return and the volatility of a portfolio that is equally invested in Alpha's and Beta's stock.\n",
    "\n",
    "b. Calculate the expected return and the volatility of a portfolio that consists of a long position of $15,000 in Alpha and a short position of $5,000 in Beta.\n",
    "\n",
    "---"
   ]
  },
  {
   "cell_type": "markdown",
   "metadata": {},
   "source": [
    "### Question B.4\n",
    "\n",
    "You expect Zeta Corporation stock to have an 18% return next year with a 40% volatility. \n",
    "*   You have $200,000 to invest, but plan to invest a total of $250,000 in Zeta, raising the additional $50,000 by shorting either Theta Corporation or Iota Corporation stock. \n",
    "\n",
    "*   Both Theta and Iota have an expected return of 12% and a volatility of 28%. If Theta has a correlation of +0.5 with Zeta, and Iota has a correlation of -0.5 with Zeta, which stock should you short?\n",
    "\n",
    "---"
   ]
  },
  {
   "cell_type": "markdown",
   "metadata": {},
   "source": [
    "### Question B.5\n",
    "\n",
    "A stock has a beta of 1.25 and an expected return of 14.0 percent. A risk-free asset currently earns 4.0 percent.\n",
    "\n",
    "a. What is the expected return on a portfolio that is equally invested in the two assets?\n",
    "\n",
    "b. If a portfolio of the two assets has a beta of .75, what are the portfolio weights?\n",
    "\n",
    "c. If a portfolio of the two assets has an expected return of 11.0 percent, what is its beta?\n",
    "\n",
    "d. If a portfolio of the two assets has a beta of 2.50, what are the portfolio weights? How do you interpret the weights for the two assets in this case?\n",
    "\n",
    "---"
   ]
  },
  {
   "cell_type": "markdown",
   "metadata": {},
   "source": [
    "### Question B.6\n",
    "\n",
    "You are the manager of a small hedge fund. The fund currently holds a portfolio of two stocks, Alpha and Beta, plus $50 million in riskless securities that earn the risk-free rate. The fund’s holdings in Alpha and Beta are currently valued at $50 million and $100 million, respectively.\n",
    "\n",
    "Your staff has collected for you the following information:\n",
    "\n",
    "| | Alpha | Beta | Market |\n",
    "| :--- | ---: | ---: | ---: |\n",
    "| Annual Standard deviation of returns | 35% | 50% | 22% |\n",
    "| Beta | 1.4 | 0.7 | |\n",
    "\n",
    "The correlation coefficient between returns on Alpha and returns on Beta is 0.4, the risk-free interest rate is 4%, and the market expected return is 10%.\n",
    "\n",
    "a. Compute the standard deviation of returns of the portfolio held by the hedge fund.\n",
    "\n",
    "b. Compute the beta of the portfolio held by the hedge fund.\n",
    "\n",
    "c. If the CAPM holds, compute the expected return of the portfolio held by the hedge fund.\n",
    "\n",
    "d. Assuming that the CAPM holds, is the portfolio held by the hedge fund efficient? Can you find a portfolio with the same expected return as the hedge fund, but with a lower level of risk? How exactly would you construct such a portfolio?\n",
    "\n",
    "---"
   ]
  },
  {
   "cell_type": "markdown",
   "metadata": {},
   "source": [
    "### Question B.7\n",
    "\n",
    "Your company operates a chemical processing facility. \n",
    "-   On average, revenues from the facility are $80 million per year. \n",
    "\n",
    "-   All of the facility’s costs are variable costs and are consistently 60% of revenues. Energy costs represent one-third of the facility’s total costs, or an average of $16 million per year. \n",
    "\n",
    "-   Suppose the facility has an asset beta of 1.25, the risk-free rate is 3%, and the market risk premium is 6%. The tax rate is 30%, and there are no other costs.\n",
    "\n",
    "a. Estimate the value of the facility today assuming no growth.\n",
    "\n",
    "b. Suppose you enter a long-term contract which will supply all of the facility’s energy needs for a fixed cost of $10 million per year (before tax). What is the value of the facility if you take this contract?\n",
    "\n",
    "c. How would taking the contract in (b) change the facility’s cost of capital?\n",
    "\n",
    "---"
   ]
  },
  {
   "cell_type": "markdown",
   "metadata": {},
   "source": [
    "### Question B.8\n",
    "\n",
    "Given the following information for Kappa Energy, find the WACC. Assume the company’s tax rate is 30 percent.\n",
    "\n",
    "Debt: 15,000 6.0 percent coupon bonds outstanding, $1,000 par value, 20 years to maturity, selling for 102 percent of par; the bonds make semiannual payments.\n",
    "\n",
    "Common stock: 500,000 shares outstanding, selling for $55 per share; the beta is 1.10.\n",
    "\n",
    "Market: 6.5 percent market risk premium and 3.5 percent risk-free rate.\n",
    "\n",
    "---"
   ]
  },
  {
   "cell_type": "markdown",
   "metadata": {},
   "source": [
    "### Question B.9\n",
    "\n",
    "The Alpha Fund (Alpha) has an expected return of 18.0% and a volatility of 20.0%. Alpha claims that no other portfolio offers a higher Sharpe ratio. Suppose this claim is true, and the risk-free interest rate is 4.0%.\n",
    "\n",
    "a. What is Alpha's Sharpe Ratio?\n",
    "\n",
    "b. If Gamma stock has a volatility of 40.0% and an expected return of 8.0%, what must be its correlation with the Alpha Fund?\n",
    "\n",
    "c. If the Beta Fund (Beta) has a correlation of 80% with the Alpha Fund, what is the Sharpe ratio of the Beta Fund?\n",
    "\n",
    "---"
   ]
  },
  {
   "cell_type": "markdown",
   "metadata": {},
   "source": [
    "### Question B.10\n",
    "\n",
    "Consider a portfolio consisting of the following three stocks:\n",
    "\n",
    "| Stock | Portfolio Weight | Volatility | Correlation with the Market Portfolio |\n",
    "| :--- | :--- | :--- | :--- |\n",
    "| Alpha Corp | 0.30 | 15% | 0.50 |\n",
    "| Beta Inc | 0.50 | 25% | 0.70 |\n",
    "| Gamma Co | 0.20 | 18% | 0.60 |\n",
    "\n",
    "The volatility of the market portfolio ($\\sigma_M$) is 12% and it has an expected return ($E[R_M]$) of 9%. The risk-free rate ($r_f$) is 4%.\n",
    "\n",
    "a. Compute the beta and expected return of each stock, and the expected return of the portfolio.\n",
    "\n",
    "b. What is the beta of the portfolio?\n",
    "\n",
    "---"
   ]
  },
  {
   "cell_type": "markdown",
   "metadata": {},
   "source": [
    "## Introduction to Derivatives\n",
    "\n",
    "---"
   ]
  },
  {
   "cell_type": "markdown",
   "metadata": {},
   "source": [
    "### Question C.1\n",
    "An investor enters into a short crude oil futures contract when the futures price is $90 per barrel. The contract is for 1,000 barrels. \n",
    "\n",
    "How much does the investor gain or lose if the crude oil price at the end of the contract is (a) $88.50 per barrel; (b) $92.10 per barrel?\n",
    "\n",
    "---"
   ]
  },
  {
   "cell_type": "markdown",
   "metadata": {},
   "source": [
    "### Question C.2\n",
    "\n",
    "A company enters into a short futures contract to sell 2,000 bushels of soybeans for 600 cents per bushel ($6.00). The initial margin is $4,000 and the maintenance margin is $2,500. \n",
    "-   What price change would lead to a margin call? \n",
    "-   Under what circumstances could $1,000 be withdrawn from the margin account?\n",
    "\n",
    "---"
   ]
  },
  {
   "cell_type": "markdown",
   "metadata": {},
   "source": [
    "### Question C.3\n",
    "The current stock price of Theta Dynamics is $50 per share and the one-year risk-free interest rate is 5%. A one-year put on Theta with a strike price of $52 sells for $6.50, while an identical call sells for $3.00.\n",
    "\n",
    "a. Is there an arbitrage opportunity available?\n",
    "\n",
    "b. What is the set of transactions needed to exploit this opportunity? Show the net cash flow today and at expiration.\n",
    "\n",
    "---"
   ]
  },
  {
   "cell_type": "markdown",
   "metadata": {},
   "source": [
    "### Question C.4\n",
    "\n",
    "Mu Corp's stock is currently trading for $30.00. There are puts and calls traded on Mu Corp. In particular, a call option with a strike of $32.00 which matures one year from today is trading in the market for $2.50. The risk-free rate is 4.0% (in annual terms).\n",
    "\n",
    "a. What should the put with same strike price abd maturity trade at if there are no arbitrage opportunities?\n",
    "\n",
    "b. If the put was trading at $3.00, how could you construct an arbitrage strategy? Show the transactions and the net cash flows.\n",
    "\n",
    "c. If the put was trading at $3.50, how could you construct an arbitrage strategy? Show the transactions and the net cash flows.\n",
    "\n",
    "---"
   ]
  },
  {
   "cell_type": "markdown",
   "metadata": {},
   "source": [
    "### Question C.5\n",
    "\n",
    "The current price of Rho Systems stock is $40. \n",
    "-   In the next year, the stock price will either go up by 25% or go down by 25%. \n",
    "\n",
    "-   The stock pays no dividends. The one-year risk-free interest rate is 5%. \n",
    "\n",
    "-   Using the Binomial Model, calculate the price of a one-year put option on Rho Systems stock with a strike price of $42.\n",
    "\n",
    "---"
   ]
  },
  {
   "cell_type": "markdown",
   "metadata": {},
   "source": [
    "### Question C.6\n",
    "Lambda Systems's current stock price is $50. Suppose that over the current year, the stock price will either increase by 50% or decrease by 30%. The risk-free rate is 10% (EAR).\n",
    "\n",
    "a. What is the value today of a one-year at-the-money European put option on Lambda Systems stock?\n",
    "\n",
    "b. What is the value today of a one-year at-the-money European call option on Lambda Systems stock?\n",
    "\n",
    "c. What is the value today of a one-year European put option on Lambda Systems stock with a strike price of $60?\n",
    "\n",
    "---"
   ]
  }
 ],
 "metadata": {
  "kernelspec": {
   "display_name": "anaconda-toolbox",
   "language": "python",
   "name": "python3"
  },
  "language_info": {
   "codemirror_mode": {
    "name": "ipython",
    "version": 3
   },
   "file_extension": ".py",
   "mimetype": "text/x-python",
   "name": "python",
   "nbconvert_exporter": "python",
   "pygments_lexer": "ipython3",
   "version": "3.12.3"
  }
 },
 "nbformat": 4,
 "nbformat_minor": 4
}
